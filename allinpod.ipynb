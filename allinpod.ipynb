{
  "nbformat": 4,
  "nbformat_minor": 0,
  "metadata": {
    "colab": {
      "provenance": [],
      "authorship_tag": "ABX9TyP/wG6nPeF7giGq9/O2qxbK",
      "include_colab_link": true
    },
    "kernelspec": {
      "name": "python3",
      "display_name": "Python 3"
    },
    "language_info": {
      "name": "python"
    }
  },
  "cells": [
    {
      "cell_type": "markdown",
      "metadata": {
        "id": "view-in-github",
        "colab_type": "text"
      },
      "source": [
        "<a href=\"https://colab.research.google.com/github/sonisaransh02/AllinSemanticSearch/blob/main/allinpod.ipynb\" target=\"_parent\"><img src=\"https://colab.research.google.com/assets/colab-badge.svg\" alt=\"Open In Colab\"/></a>"
      ]
    },
    {
      "cell_type": "code",
      "source": [
        "from google.colab import drive\n",
        "drive.mount('/content/drive')"
      ],
      "metadata": {
        "colab": {
          "base_uri": "https://localhost:8080/"
        },
        "id": "6U82kQjxkukj",
        "outputId": "79726ee1-a377-4fe9-faf8-6a20464aad8d"
      },
      "execution_count": 1,
      "outputs": [
        {
          "output_type": "stream",
          "name": "stdout",
          "text": [
            "Mounted at /content/drive\n"
          ]
        }
      ]
    },
    {
      "cell_type": "code",
      "source": [
        "cd /content/drive/MyDrive/dataAllIn"
      ],
      "metadata": {
        "colab": {
          "base_uri": "https://localhost:8080/"
        },
        "id": "leOWAOoKm-O2",
        "outputId": "005c30c4-6e07-4a50-82be-5880e8d68b18"
      },
      "execution_count": 2,
      "outputs": [
        {
          "output_type": "stream",
          "name": "stdout",
          "text": [
            "/content/drive/MyDrive/dataAllIn\n"
          ]
        }
      ]
    },
    {
      "cell_type": "code",
      "source": [
        "import os\n",
        "from glob import glob\n",
        "\n",
        "from bs4 import BeautifulSoup\n",
        "from tqdm import tqdm\n",
        "import pandas as pd\n",
        "import re"
      ],
      "metadata": {
        "id": "p9FghJ6inFE6"
      },
      "execution_count": 79,
      "outputs": []
    },
    {
      "cell_type": "code",
      "source": [
        "data_path = '/content/drive/MyDrive/dataAllIn/data/*'\n",
        "html_files = glob(data_path)\n",
        "len(html_files)"
      ],
      "metadata": {
        "id": "T7rAIpRGnLpi"
      },
      "execution_count": null,
      "outputs": []
    },
    {
      "cell_type": "code",
      "source": [
        "html_files[0]"
      ],
      "metadata": {
        "id": "80OnJKcanT5Z"
      },
      "execution_count": null,
      "outputs": []
    },
    {
      "cell_type": "code",
      "source": [
        "arr = []\n",
        "for file in tqdm(html_files):\n",
        "    soup = BeautifulSoup(open(file,'rb'), 'html.parser')\n",
        "    \n",
        "    speaker = []\n",
        "    text = []\n",
        "    timestamp = []\n",
        "    episode = []\n",
        "\n",
        "    for each in soup.find_all('div',attrs={'class':\"transcript is-main\"}):\n",
        "        speaker.append(each.find('li', attrs={'class':'speaker'}).text)\n",
        "        text.append(each.find('mark').text)\n",
        "        timestamp.append(each.find('li', attrs={'class':'tg-caption', 'id':'playTranscript'}).text)\n",
        "        episode.append(file)\n",
        "    \n",
        "\n",
        "    arr.append(pd.DataFrame({\n",
        "            'time' : timestamp,\n",
        "            'text' : text,\n",
        "            'speaker' : speaker,\n",
        "            'episode' : episode\n",
        "        }))"
      ],
      "metadata": {
        "colab": {
          "base_uri": "https://localhost:8080/"
        },
        "id": "P35_XfIWnZM6",
        "outputId": "4c989161-a978-4988-dab2-a2c1d8aac37f"
      },
      "execution_count": 7,
      "outputs": [
        {
          "output_type": "stream",
          "name": "stderr",
          "text": [
            "100%|██████████| 106/106 [01:42<00:00,  1.04it/s]\n"
          ]
        }
      ]
    },
    {
      "cell_type": "code",
      "source": [
        "data = pd.concat(arr).reset_index(drop=True)\n",
        "#regex for only episode number.\n",
        "data['episode']=  data['episode'].str.extract('E(\\d*\\.?\\d*)_')\n",
        "data = data.sort_values(by=['episode','time'])\n",
        "data "
      ],
      "metadata": {
        "id": "vq8ypbtJndKS"
      },
      "execution_count": null,
      "outputs": []
    },
    {
      "cell_type": "code",
      "source": [
        "sentences = data.text.tolist()\n",
        "print(sentences)"
      ],
      "metadata": {
        "id": "KAabetTQn3SY"
      },
      "execution_count": null,
      "outputs": []
    },
    {
      "cell_type": "code",
      "source": [
        "!pip install -U sentence-transformers\n",
        "from sentence_transformers import SentenceTransformer\n",
        "!pip install transformers\n",
        "model = SentenceTransformer('all-MiniLM-L6-v2')"
      ],
      "metadata": {
        "id": "vOhjn7nVn6lE"
      },
      "execution_count": null,
      "outputs": []
    },
    {
      "cell_type": "code",
      "source": [
        "embeddings = model.encode(sentences)"
      ],
      "metadata": {
        "id": "ek5OcuzsoHIU"
      },
      "execution_count": 54,
      "outputs": []
    },
    {
      "cell_type": "code",
      "source": [
        "query=[\"theranos\"]\n",
        "queryEmbedding=model.encode(query)\n",
        "print(queryEmbedding)"
      ],
      "metadata": {
        "id": "0ckhsob0oIYh"
      },
      "execution_count": null,
      "outputs": []
    },
    {
      "cell_type": "code",
      "source": [
        "from sklearn.metrics.pairwise import cosine_similarity"
      ],
      "metadata": {
        "id": "YDmiI2TXoIk-"
      },
      "execution_count": 56,
      "outputs": []
    },
    {
      "cell_type": "code",
      "source": [
        "sims = cosine_similarity(embeddings, queryEmbedding) "
      ],
      "metadata": {
        "id": "FG4EunrFopT7"
      },
      "execution_count": 57,
      "outputs": []
    },
    {
      "cell_type": "code",
      "source": [
        "sims.shape"
      ],
      "metadata": {
        "id": "xlNT60bvosby"
      },
      "execution_count": null,
      "outputs": []
    },
    {
      "cell_type": "code",
      "source": [
        "data['similarity'] = sims\n",
        "data"
      ],
      "metadata": {
        "id": "jaZKOKT-ot5T"
      },
      "execution_count": null,
      "outputs": []
    },
    {
      "cell_type": "code",
      "source": [
        "data.sort_values(by='similarity',ascending=False)"
      ],
      "metadata": {
        "id": "tmXjGX-HoxG6"
      },
      "execution_count": null,
      "outputs": []
    },
    {
      "cell_type": "code",
      "source": [
        "data.sort_values(by='similarity',ascending=False).iloc[0]['text']"
      ],
      "metadata": {
        "colab": {
          "base_uri": "https://localhost:8080/",
          "height": 38
        },
        "id": "Qc9WtlN729VE",
        "outputId": "8fdb5a70-e1d3-4046-b81e-6f7413d121d0"
      },
      "execution_count": 91,
      "outputs": [
        {
          "output_type": "execute_result",
          "data": {
            "text/plain": [
              "'with like you end up with a magic leap or Theranos, Theranos'"
            ],
            "application/vnd.google.colaboratory.intrinsic+json": {
              "type": "string"
            }
          },
          "metadata": {},
          "execution_count": 91
        }
      ]
    }
  ]
}